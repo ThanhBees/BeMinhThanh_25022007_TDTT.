{
 "cells": [
  {
   "cell_type": "code",
   "execution_count": 5,
   "id": "1e4da404-9130-4079-aca3-462f8d4bc9ae",
   "metadata": {},
   "outputs": [
    {
     "name": "stdin",
     "output_type": "stream",
     "text": [
      "nhap a= 3\n",
      "nhap b= 6\n"
     ]
    },
    {
     "name": "stdout",
     "output_type": "stream",
     "text": [
      "Sau khi hoan doi; a = 6 , b 3\n"
     ]
    }
   ],
   "source": [
    "#3W2\n",
    "a = int(input('nhap a='))\n",
    "b = int(input('nhap b='))\n",
    "a = a ^ b\n",
    "b = a ^ b\n",
    "a = a ^ b\n",
    "print('Sau khi hoan doi; a =', a, ', b', b)"
   ]
  },
  {
   "cell_type": "code",
   "execution_count": null,
   "id": "40746dc7-4642-477f-8e57-0072a6127270",
   "metadata": {},
   "outputs": [],
   "source": [
    "#3W3\n",
    "\n"
   ]
  },
  {
   "cell_type": "code",
   "execution_count": 16,
   "id": "0e1330ab-aede-42bc-aaef-27c6548695fa",
   "metadata": {},
   "outputs": [
    {
     "name": "stdin",
     "output_type": "stream",
     "text": [
      "nhap so m va n: 65 9\n"
     ]
    },
    {
     "name": "stdout",
     "output_type": "stream",
     "text": [
      "ket qua thu duoc lam tron xuong: 7\n"
     ]
    }
   ],
   "source": [
    "#3W4\n",
    "import math\n",
    "m, n = map(float,input('nhap so m va n:').split())\n",
    "if n == 0:\n",
    "    print('khong the chia cho 0')\n",
    "else:\n",
    "    kqua = math.floor(m / n)\n",
    "    print('ket qua thu duoc lam tron xuong:', kqua)\n"
   ]
  },
  {
   "cell_type": "code",
   "execution_count": 15,
   "id": "56470951-aa8b-4f90-807e-9935f27cda80",
   "metadata": {},
   "outputs": [
    {
     "name": "stdin",
     "output_type": "stream",
     "text": [
      "nhap so m va n: 87 6778\n"
     ]
    },
    {
     "name": "stdout",
     "output_type": "stream",
     "text": [
      "ket qua thu duoc lam tron len: 1\n"
     ]
    }
   ],
   "source": [
    "#3W5\n",
    "import math\n",
    "m, n = map(float,input('nhap so m va n:').split())\n",
    "if n == 0:\n",
    "    print('khong the chia cho 0')\n",
    "else:\n",
    "    kqua = math.ceil(m / n)\n",
    "    print('ket qua thu duoc lam tron len:', kqua)\n"
   ]
  },
  {
   "cell_type": "code",
   "execution_count": 20,
   "id": "35c24702-7d97-409a-870f-c17b1067323d",
   "metadata": {},
   "outputs": [
    {
     "name": "stdin",
     "output_type": "stream",
     "text": [
      " -9\n"
     ]
    },
    {
     "name": "stdout",
     "output_type": "stream",
     "text": [
      "so khong duong\n"
     ]
    }
   ],
   "source": [
    "#3W6\n",
    "x = int(input())\n",
    "if x <= 0:\n",
    "    print('so khong duong')\n",
    "else:\n",
    "    if x % 2 == 0:\n",
    "        print('Even')\n",
    "    else:\n",
    "        print('Odd')"
   ]
  },
  {
   "cell_type": "code",
   "execution_count": 22,
   "id": "1a7883e1-31f3-4144-a70c-e187b2ecb2af",
   "metadata": {},
   "outputs": [
    {
     "name": "stdin",
     "output_type": "stream",
     "text": [
      "nhap vao hai so a, b: 9 -8\n"
     ]
    },
    {
     "name": "stdout",
     "output_type": "stream",
     "text": [
      "no\n"
     ]
    }
   ],
   "source": [
    "#3W7\n",
    "a, b = map(int,input('nhap vao hai so a, b:').split())\n",
    "if a < 0 & b < 0 :\n",
    "    print('yes')\n",
    "else:\n",
    "    print('no')"
   ]
  },
  {
   "cell_type": "code",
   "execution_count": 28,
   "id": "f8ae296a-e4e4-4b16-912a-b6dc072356de",
   "metadata": {},
   "outputs": [
    {
     "name": "stdin",
     "output_type": "stream",
     "text": [
      "nhap chuoi a tyujhvghu\n",
      "nhap chuoi b vghjnbvf\n"
     ]
    },
    {
     "name": "stdout",
     "output_type": "stream",
     "text": [
      "TRUE\n"
     ]
    }
   ],
   "source": [
    "#3W8\n",
    "a = input('nhap chuoi a')\n",
    "b = input('nhap chuoi b')\n",
    "if len(a) > len (b):\n",
    "    print('TRUE')\n",
    "else:\n",
    "    print('FALSE')"
   ]
  },
  {
   "cell_type": "code",
   "execution_count": 30,
   "id": "926cbeb8-032f-4a48-b72b-e2b0156b449e",
   "metadata": {},
   "outputs": [
    {
     "name": "stdin",
     "output_type": "stream",
     "text": [
      "nhap vao do dai ba canh 3 4 5\n"
     ]
    },
    {
     "name": "stdout",
     "output_type": "stream",
     "text": [
      "YES\n"
     ]
    }
   ],
   "source": [
    "#3W9\n",
    "a, b, c = map(int,input('nhap vao do dai ba canh').split())\n",
    "if (a + b <= c or a + c <= b or b + c <= a):\n",
    "    print('NO')\n",
    "else:\n",
    "    print('YES')"
   ]
  },
  {
   "cell_type": "code",
   "execution_count": 32,
   "id": "23cf1f84-bd5d-48db-bd9a-d96164dbf8c9",
   "metadata": {},
   "outputs": [
    {
     "name": "stdin",
     "output_type": "stream",
     "text": [
      "nhap cac so a, b, c, d: 9 9 8 7\n"
     ]
    },
    {
     "name": "stdout",
     "output_type": "stream",
     "text": [
      "9\n"
     ]
    }
   ],
   "source": [
    "#3W10\n",
    "a, b, c, d = map(int,input('nhap cac so a, b, c, d:').split())\n",
    "if b > a and b > c and b > d:\n",
    "    print(b)\n",
    "elif c > a and b < c and c > d:\n",
    "    print(c)\n",
    "elif d > a and d > c and b < d:\n",
    "    print(d)\n",
    "else:\n",
    "    print(a)\n"
   ]
  },
  {
   "cell_type": "code",
   "execution_count": 33,
   "id": "700b8354-c6dc-4947-b0e1-5cfba6b3c6fe",
   "metadata": {},
   "outputs": [
    {
     "name": "stdin",
     "output_type": "stream",
     "text": [
      "nhap vao do dai ba canh 6 6 7\n"
     ]
    },
    {
     "name": "stdout",
     "output_type": "stream",
     "text": [
      "La tam giac can\n"
     ]
    }
   ],
   "source": [
    "#3W11\n",
    "a, b, c = map(int,input('nhap vao do dai ba canh').split())\n",
    "if a < 0 or b < 0 or c < 0:\n",
    "    print('chieu dai k hop le')\n",
    "if (a + b <= c or a + c <= b or b + c <= a):\n",
    "    print('Khong la ba canh cua mot tam giac')\n",
    "else:\n",
    "    if (a == b == c):\n",
    "        print('La tam giac deu')\n",
    "    elif (a == b != c or a == c != b or b == c != a):\n",
    "        print('La tam giac can')\n",
    "    else:\n",
    "        print('La tam giac thuong')\n"
   ]
  },
  {
   "cell_type": "code",
   "execution_count": 34,
   "id": "44febd52-9074-4cd0-a45c-834b8e75036e",
   "metadata": {},
   "outputs": [
    {
     "name": "stdin",
     "output_type": "stream",
     "text": [
      "nhap nam: 2025\n"
     ]
    },
    {
     "name": "stdout",
     "output_type": "stream",
     "text": [
      "No\n"
     ]
    }
   ],
   "source": [
    "#3W12\n",
    "n = int(input('nhap nam:'))\n",
    "if n <= 0:\n",
    "    print('so nam khong hop le')\n",
    "else:\n",
    "    if n % 400 == 0:\n",
    "        print('Yes')\n",
    "    else:\n",
    "        print('No')\n",
    "        "
   ]
  },
  {
   "cell_type": "code",
   "execution_count": 37,
   "id": "50600956-47ce-4b49-9e0f-e59be827aebe",
   "metadata": {},
   "outputs": [
    {
     "name": "stdin",
     "output_type": "stream",
     "text": [
      "nhap cac he so a va b 4 8\n"
     ]
    },
    {
     "name": "stdout",
     "output_type": "stream",
     "text": [
      "x= -2.00\n"
     ]
    }
   ],
   "source": [
    "#3W14\n",
    "a, b = map(float,input('nhap cac he so a va b').split())\n",
    "if a == 0:\n",
    "    if b == 0:\n",
    "        print('vo so nghiem')\n",
    "    else:\n",
    "        print('vo nghiem')\n",
    "else:\n",
    "    x = -b / a\n",
    "    print(f'x= {x:.2f}')\n"
   ]
  },
  {
   "cell_type": "code",
   "execution_count": 46,
   "id": "ee993c80-f38b-42e5-a281-3633258f433b",
   "metadata": {},
   "outputs": [
    {
     "name": "stdin",
     "output_type": "stream",
     "text": [
      "nhap diem trung binh 11\n"
     ]
    },
    {
     "name": "stdout",
     "output_type": "stream",
     "text": [
      "điểm không hợp lệ\n"
     ]
    }
   ],
   "source": [
    "#3W15\n",
    "d = float(input('nhap diem trung binh'))\n",
    "if 8 <= d <= 10:\n",
    "    print('Giỏi')\n",
    "elif 6.5 <= d < 8:\n",
    "    print('Khá')\n",
    "elif 5 <= d < 6.5:\n",
    "    print('Trung Bình')\n",
    "elif 0 <= d < 5:\n",
    "    print('Yếu')\n",
    "else:\n",
    "    print('điểm không hợp lệ')\n"
   ]
  },
  {
   "cell_type": "code",
   "execution_count": 45,
   "id": "f576e059-6d8b-40b3-9c85-02a82d1b2001",
   "metadata": {},
   "outputs": [
    {
     "name": "stdin",
     "output_type": "stream",
     "text": [
      " 3.71\n"
     ]
    },
    {
     "name": "stdout",
     "output_type": "stream",
     "text": [
      "kết quả làm tròn lên, xuống, làm tròn tới số nguyên gần nhất : 4 3 4\n"
     ]
    }
   ],
   "source": [
    "#3W16\n",
    "import math\n",
    "m = float(input())\n",
    "print('kết quả làm tròn lên, xuống, làm tròn tới số nguyên gần nhất :', math.ceil(m), math.floor(m), round(m))"
   ]
  },
  {
   "cell_type": "code",
   "execution_count": 52,
   "id": "62e96146-e746-4869-9c19-2d828f5be59b",
   "metadata": {},
   "outputs": [
    {
     "name": "stdin",
     "output_type": "stream",
     "text": [
      " 1 2 4 8\n"
     ]
    },
    {
     "name": "stdout",
     "output_type": "stream",
     "text": [
      "bốn số trên tạo thành cấp số nhân với công bội là: 2.000\n"
     ]
    }
   ],
   "source": [
    "#3w17\n",
    "a, b, c, d = map(float,input().split())\n",
    "n = b / a\n",
    "if b * n == c and c * n == d:\n",
    "    print('bốn số trên tạo thành cấp số nhân với công bội là:', n)\n",
    "else:\n",
    "    print('không phải là cấp số nhân')"
   ]
  }
 ],
 "metadata": {
  "kernelspec": {
   "display_name": "Python 3 (ipykernel)",
   "language": "python",
   "name": "python3"
  },
  "language_info": {
   "codemirror_mode": {
    "name": "ipython",
    "version": 3
   },
   "file_extension": ".py",
   "mimetype": "text/x-python",
   "name": "python",
   "nbconvert_exporter": "python",
   "pygments_lexer": "ipython3",
   "version": "3.13.7"
  }
 },
 "nbformat": 4,
 "nbformat_minor": 5
}
