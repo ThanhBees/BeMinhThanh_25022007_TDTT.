{
 "cells": [
  {
   "cell_type": "code",
   "execution_count": 18,
   "id": "5f586d7d-f664-44aa-baf4-2c90f1b34cf8",
   "metadata": {},
   "outputs": [
    {
     "name": "stdin",
     "output_type": "stream",
     "text": [
      "nhap vao hai canh cua hinh chu nhat 2.3 5.6\n"
     ]
    },
    {
     "name": "stdout",
     "output_type": "stream",
     "text": [
      "chu vi: 15.799999999999999\n",
      "dien tich 12.879999999999999\n"
     ]
    }
   ],
   "source": [
    "#bai 1\n",
    "a, b= map(float,input('nhap vao hai canh cua hinh chu nhat').split())\n",
    "print(f'chu vi:', (a + b) * 2)\n",
    "print(f'dien tich', a * b)"
   ]
  },
  {
   "cell_type": "code",
   "execution_count": 19,
   "id": "3860120f-2815-44cf-bb3e-1e0b0aa7b816",
   "metadata": {},
   "outputs": [
    {
     "name": "stdin",
     "output_type": "stream",
     "text": [
      "nhap vao ban kinh cua hinh tron 4.5\n"
     ]
    },
    {
     "name": "stdout",
     "output_type": "stream",
     "text": [
      "dien tich la 63.585\n",
      "chu vi la 28.26\n"
     ]
    }
   ],
   "source": [
    "#bai 2\n",
    "r = float(input('nhap vao ban kinh cua hinh tron'))\n",
    "pi = 3.14\n",
    "print(f'dien tich la', pi*r**2)\n",
    "print(f'chu vi la', pi*r*2)"
   ]
  },
  {
   "cell_type": "code",
   "execution_count": 46,
   "id": "2712fca4-00fb-4fa8-9dce-bed6f8ec4b16",
   "metadata": {},
   "outputs": [
    {
     "name": "stdin",
     "output_type": "stream",
     "text": [
      "nhap vao do dai ba canh 3 4 5\n"
     ]
    },
    {
     "name": "stdout",
     "output_type": "stream",
     "text": [
      "La tam giac vuong\n",
      "chu vi la 12.0\n",
      "dien tich la 6.0\n"
     ]
    }
   ],
   "source": [
    "#bai 3\n",
    "a, b, c = map(float,input('nhap vao do dai ba canh').split())\n",
    "if (a + b <= c or a + c <= b or b + c <= a):\n",
    "    print('Khong la ba canh cua mot tam giac')\n",
    "else:\n",
    "    if (a == b == c):\n",
    "        print('La tam giac deu')\n",
    "    elif (a == b != c or a == c != b or b == c != a):\n",
    "        print('La tam giac can')\n",
    "    elif ( a*a + b*b == c*c or a*a + c*c == b*b or b*b + c*c == a*a):\n",
    "        print('La tam giac vuong')\n",
    "    else:\n",
    "        print('La tam giac thuong')\n",
    "    p = (a + b + c)\n",
    "    m = p/2 \n",
    "    s = (m*(m-a)*(m-b)*(m-c))**0.5\n",
    "    print('chu vi la', p)\n",
    "    print('dien tich la', s)\n",
    "    "
   ]
  },
  {
   "cell_type": "code",
   "execution_count": 22,
   "id": "3c4199d9-7b7e-4a66-89f1-854974717fcf",
   "metadata": {},
   "outputs": [
    {
     "name": "stdin",
     "output_type": "stream",
     "text": [
      "nhap cac he so a va b 1 2\n"
     ]
    },
    {
     "name": "stdout",
     "output_type": "stream",
     "text": [
      "x= -2.0\n"
     ]
    }
   ],
   "source": [
    "#bai 4\n",
    "a, b = map(float,input('nhap cac he so a va b').split())\n",
    "if a == 0:\n",
    "    if b == 0:\n",
    "        print('vo so nghiem')\n",
    "    else:\n",
    "        print('vo nghiem')\n",
    "else:\n",
    "    x = -b / a\n",
    "    print('x=', x)"
   ]
  },
  {
   "cell_type": "code",
   "execution_count": 47,
   "id": "61b4117b-3ce8-4a42-88d2-3972c729025d",
   "metadata": {},
   "outputs": [
    {
     "name": "stdin",
     "output_type": "stream",
     "text": [
      "nhap cac he so a, b, c: 3 5 7\n"
     ]
    },
    {
     "name": "stdout",
     "output_type": "stream",
     "text": [
      "vo nghiem\n"
     ]
    }
   ],
   "source": [
    "#bai 5\n",
    "a, b, c = map(float,input('nhap cac he so a, b, c:').split())\n",
    "if a == 0:\n",
    "    if (b == 0 and c == 0):\n",
    "        print('vo so nghiem')\n",
    "    elif (b == 0 and c != 0):\n",
    "        print('vo nghiem')\n",
    "    else:\n",
    "        x = -c/b\n",
    "        print('x=', x)\n",
    "else:\n",
    "    d = b*b - 4*a*c\n",
    "    if d < 0:\n",
    "        print('vo nghiem')\n",
    "    elif d == 0:\n",
    "        x = -b/2*a\n",
    "        print('x=', x)\n",
    "    else:\n",
    "        x1 = (-b + d**0.5)/2*a\n",
    "        x2 = (-b - d**0.5)/2*a\n",
    "        print('x1=', x1)\n",
    "        print('x2=', x2)"
   ]
  },
  {
   "cell_type": "code",
   "execution_count": 36,
   "id": "3983b53b-c74b-47b4-9f15-0305e617847a",
   "metadata": {},
   "outputs": [
    {
     "name": "stdin",
     "output_type": "stream",
     "text": [
      "nhap cac so a, b, c, d: 1 7 4 0\n"
     ]
    },
    {
     "name": "stdout",
     "output_type": "stream",
     "text": [
      "gia tri lon nhat: 7.0\n"
     ]
    }
   ],
   "source": [
    "#bai 6\n",
    "a, b, c, d = map(float,input('nhap cac so a, b, c, d:').split())\n",
    "if b > a and b > c and b > d:\n",
    "    print('gia tri lon nhat:', b)\n",
    "elif c > a and b < c and c > d:\n",
    "    print('gia tri lon nhat:', c)\n",
    "elif d > a and d > c and b < d:\n",
    "    print('gia tri lon nhat:', d)\n",
    "else:\n",
    "    print('gia tri lon nhat:', a)"
   ]
  },
  {
   "cell_type": "code",
   "execution_count": 37,
   "id": "2b94be07-df0d-4e2a-a486-0547cbd10d79",
   "metadata": {},
   "outputs": [
    {
     "name": "stdin",
     "output_type": "stream",
     "text": [
      "nhap cac so a, b, c, d: 2 8 5 9\n"
     ]
    },
    {
     "name": "stdout",
     "output_type": "stream",
     "text": [
      "gia tri nho nhat: 2.0\n"
     ]
    }
   ],
   "source": [
    "#bai 7\n",
    "a, b, c, d = map(float,input('nhap cac so a, b, c, d:').split())\n",
    "if b < a and b < c and b < d:\n",
    "    print('gia tri nho nhat:', b)\n",
    "elif c < a and b > c and c < d:\n",
    "    print('gia tri nho nhat:', c)\n",
    "elif d < a and d < c and b > d:\n",
    "    print('gia tri nho nhat:', d)\n",
    "else:\n",
    "    print('gia tri nho nhat:', a)"
   ]
  },
  {
   "cell_type": "code",
   "execution_count": null,
   "id": "8b7363c5-027d-4484-b45d-1b7b94a1cfc8",
   "metadata": {},
   "outputs": [],
   "source": [
    "#bai 8\n",
    "a, b, c, d = map(float,input('nhap cac he so tuong ung a, b, c, d:'.split()))\n",
    "if "
   ]
  },
  {
   "cell_type": "code",
   "execution_count": 48,
   "id": "1ddcf3ef-8e63-4fcd-aeee-65fc9999ae1d",
   "metadata": {},
   "outputs": [
    {
     "name": "stdin",
     "output_type": "stream",
     "text": [
      " 1234456\n"
     ]
    },
    {
     "name": "stdout",
     "output_type": "stream",
     "text": [
      "gia tri quy doi 342 gio 54 phut 16 giay\n"
     ]
    }
   ],
   "source": [
    "#bai 9\n",
    "x = int(input())\n",
    "g = x // 3600\n",
    "p = (x-g*3600) // 60\n",
    "gi = x - g*3600 - p*60\n",
    "print('gia tri quy doi', g, 'gio', p, 'phut', gi, 'giay')"
   ]
  },
  {
   "cell_type": "code",
   "execution_count": 50,
   "id": "cf351c1c-ba75-4af7-8ee2-751ced5dfa7e",
   "metadata": {},
   "outputs": [
    {
     "name": "stdin",
     "output_type": "stream",
     "text": [
      "nhap vao toa do tam 2 3\n",
      "ban kinh la: 4\n",
      "nhap vao toa do diem A can kiem tra 3 6\n"
     ]
    },
    {
     "name": "stdout",
     "output_type": "stream",
     "text": [
      "diem A khong thuoc duong tron\n"
     ]
    }
   ],
   "source": [
    "#bai 10\n",
    "a, b = map(float,input('nhap vao toa do tam').split())\n",
    "r = float(input('ban kinh la:'))\n",
    "x, y = map(float,input('nhap vao toa do diem A can kiem tra').split())\n",
    "if (x-a)**2 +(y-b)**2 == r*r:\n",
    "    print('diem A thuoc duong tron')\n",
    "else:\n",
    "    print('diem A khong thuoc duong tron')"
   ]
  },
  {
   "cell_type": "code",
   "execution_count": 55,
   "id": "251a6e09-7a18-4c3f-b34d-2db372f03f49",
   "metadata": {},
   "outputs": [
    {
     "name": "stdin",
     "output_type": "stream",
     "text": [
      " 4\n",
      " 5\n"
     ]
    },
    {
     "name": "stdout",
     "output_type": "stream",
     "text": [
      "1024.0\n"
     ]
    }
   ],
   "source": [
    "#bai 11\n",
    "x = float(input())\n",
    "y = float(input())\n",
    "a = x**y\n",
    "print(a) \n"
   ]
  }
 ],
 "metadata": {
  "kernelspec": {
   "display_name": "Python 3 (ipykernel)",
   "language": "python",
   "name": "python3"
  },
  "language_info": {
   "codemirror_mode": {
    "name": "ipython",
    "version": 3
   },
   "file_extension": ".py",
   "mimetype": "text/x-python",
   "name": "python",
   "nbconvert_exporter": "python",
   "pygments_lexer": "ipython3",
   "version": "3.13.7"
  }
 },
 "nbformat": 4,
 "nbformat_minor": 5
}
