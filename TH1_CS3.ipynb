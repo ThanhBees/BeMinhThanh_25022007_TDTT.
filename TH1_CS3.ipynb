{
 "cells": [
  {
   "cell_type": "code",
   "execution_count": null,
   "id": "a030a7e4",
   "metadata": {},
   "outputs": [
    {
     "name": "stdout",
     "output_type": "stream",
     "text": [
      "2\n"
     ]
    }
   ],
   "source": [
    "#W1A1\n",
    "a = 7 #Gán giá trị 7 cho a\n",
    "b = 5 #Gán giá trị 5 cho b\n",
    "c = a - b #Lấy a - b, tức 7 - 5 = 2, gán cho c\n",
    "print(c) #In ra giá trị của c"
   ]
  },
  {
   "cell_type": "code",
   "execution_count": null,
   "id": "b23d38f4",
   "metadata": {},
   "outputs": [
    {
     "name": "stdout",
     "output_type": "stream",
     "text": [
      "Thành Phố: Hà Nội - Năm: 2025\n"
     ]
    }
   ],
   "source": [
    "#W1A2\n",
    "city = 'Hà Nội' #biến city được gán giá trị chuỗi 'Hà Nội'\n",
    "year = '2025' #biến year được gán giá trị chuỗi '2025'\n",
    "print('Thành Phố:', city, '- Năm:', year) #in ra chuỗi ghép các phần tử gồm city và year"
   ]
  },
  {
   "cell_type": "code",
   "execution_count": null,
   "id": "23e30fc8",
   "metadata": {},
   "outputs": [
    {
     "name": "stdout",
     "output_type": "stream",
     "text": [
      "1\n",
      "3\n",
      "6\n",
      "10\n"
     ]
    }
   ],
   "source": [
    "#W1A3\n",
    "n = 4 #gán n với giá trị 4\n",
    "t = 0 #gán t với giá trị 0\n",
    "for i in range(1, n+1): #i chạy từ 1 đến 4\n",
    "    t += i #cộng dồn i vào t\n",
    "    print(t) #in kết quả sau mỗi lần cộng"
   ]
  },
  {
   "cell_type": "code",
   "execution_count": null,
   "id": "78504e99",
   "metadata": {},
   "outputs": [
    {
     "name": "stdout",
     "output_type": "stream",
     "text": [
      "1 là số lẻ\n",
      "2 là số chẵn\n",
      "3 là số lẻ\n",
      "4 là số chẵn\n"
     ]
    }
   ],
   "source": [
    "#W1A4\n",
    "numbers= [1, 2, 3, 4]#khai báo 1 danh sách gồm 4 số nguyên\n",
    "for x in numbers:#duyệt lần lượt từng thành phần trong danh sách numbers\n",
    "    if x % 2 == 0:#nếu x chia hết cho 2 tức là số chẵn\n",
    "        print(x,'là số chẵn')#in ra màn hình số đó kèm dòng 'là số chẵn'\n",
    "    else:#ngược lại, nếu số đó không chia hết cho 2 thì là số lẻ\n",
    "        print(x, 'là số lẻ')#in ra màn hình số đó kèm dòng 'là số lẻ'"
   ]
  },
  {
   "cell_type": "code",
   "execution_count": null,
   "id": "61262eb3",
   "metadata": {},
   "outputs": [
    {
     "name": "stdout",
     "output_type": "stream",
     "text": [
      "Số phần tử trong danh sách là: 1\n",
      "Số phần tử trong danh sách là: 2\n",
      "Số phần tử trong danh sách là: 3\n",
      "Số phần tử trong danh sách là: 4\n"
     ]
    }
   ],
   "source": [
    "#W1A5\n",
    "animals = [\"cat\", \"dog\", 'cat', 'bird'] #danh sách gồm 4 phần tử cat, dog, cat, bird\n",
    "count = 0 #khởi tạo biến đếm\n",
    "for a in animals:#vòng lặp duyệt qua từng phần tử trong danh sách\n",
    "    count += 1#mỗi lần lặp, 'count' được tăng thêm 1\n",
    "    print('Số phần tử trong danh sách là:', count)#in ra lần lượt kết quả sau mỗi lần câu lệnh count chạy\n"
   ]
  },
  {
   "cell_type": "code",
   "execution_count": 3,
   "id": "1945f0e3",
   "metadata": {},
   "outputs": [
    {
     "ename": "SyntaxError",
     "evalue": "unmatched ')' (2589445819.py, line 3)",
     "output_type": "error",
     "traceback": [
      "  \u001b[36mCell\u001b[39m\u001b[36m \u001b[39m\u001b[32mIn[3]\u001b[39m\u001b[32m, line 3\u001b[39m\n\u001b[31m    \u001b[39m\u001b[31m1) Sentiment analysis\u001b[39m\n     ^\n\u001b[31mSyntaxError\u001b[39m\u001b[31m:\u001b[39m unmatched ')'\n"
     ]
    }
   ],
   "source": [
    "#W1A6\n",
    "=== AI Prediction System ===\n",
    "1) Sentiment analysis\n",
    "2) Weather forecast\n",
    "3) exit\n",
    "Please choose an option\n",
    "#Đây là một menu chương trình dạng tương tác.\n",
    "Khi chạy, nó sẽ in ra dòng tiêu đề === AI Prediction System ===.\n",
    "\n",
    "Sau đó hiển thị 3 lựa chọn:\n",
    "\n",
    "Sentiment analysis → Phân tích cảm xúc của văn bản.\n",
    "\n",
    "Weather forecast → Dự báo thời tiết.\n",
    "\n",
    "exit → Thoát khỏi chương trình.\n",
    "\n",
    "Cuối cùng, chương trình hiện lời nhắc:\n",
    "\n",
    "Please choose an option\n",
    "\n",
    "\n",
    "để người dùng nhập lựa chọn (thường qua input() trong Python)."
   ]
  },
  {
   "cell_type": "code",
   "execution_count": 5,
   "id": "ad100edd",
   "metadata": {},
   "outputs": [
    {
     "name": "stdout",
     "output_type": "stream",
     "text": [
      "số chẵn\n"
     ]
    }
   ],
   "source": [
    "#W1A7\n",
    "num = int(input('Nhập số:'))\n",
    "if num % 2 == 0:\n",
    "    print('số chẵn')\n",
    "else:\n",
    "    print('Số lẻ')\n"
   ]
  },
  {
   "cell_type": "code",
   "execution_count": null,
   "id": "a5d05626",
   "metadata": {},
   "outputs": [
    {
     "name": "stdout",
     "output_type": "stream",
     "text": [
      "AI đang học lần 1\n",
      "Huấn luyện xong!\n",
      "AI đang học lần 2\n",
      "Huấn luyện xong!\n",
      "AI đang học lần 3\n",
      "Huấn luyện xong!\n"
     ]
    }
   ],
   "source": [
    "#W1A8\n",
    "for i in range(3):#vòng lặp for chạy 3 lần, với i lần lượt nhận các giá trị: 0, 1, 2\n",
    "    print('AI đang học lần', i + 1)#in ra thông báo 'AI đang học lần'\n",
    "                                   #vì i bắt đầu từ 0 nên ta cộng thêm 1 để hiển thị số lần bắt đầu từ 1\n",
    "    print('Huấn luyện xong!')#in ra thông báo 'huấn luyện xong!' sau mỗi lần học"
   ]
  },
  {
   "cell_type": "code",
   "execution_count": null,
   "id": "c99e5448",
   "metadata": {},
   "outputs": [
    {
     "name": "stdout",
     "output_type": "stream",
     "text": [
      "Dự đoán con vật: cat\n",
      "Dự đoán con vật: dog\n",
      "Dự đoán con vật: fish\n"
     ]
    }
   ],
   "source": [
    "#W1A9\n",
    "# Vòng lặp for sẽ duyệt lần lượt qua từng phần tử trong danh sách [\"cat\", \"dog\", \"fish\"]\n",
    "for x in [\"cat\", \"dog\", \"fish\"]:\n",
    "    #Mỗi lần lặp, biến x sẽ nhận giá trị của một phần tử trong danh sách\n",
    "    #Lần 1: x = \"cat\"\n",
    "    #Lần 2: x = \"dog\"\n",
    "    #Lần 3: x = \"fish\"\n",
    "    #In ra chuỗi \"Dự đoán con vật:\" kèm theo giá trị của x\n",
    "    print(\"Dự đoán con vật:\", x)"
   ]
  },
  {
   "cell_type": "code",
   "execution_count": null,
   "id": "37f80ab5",
   "metadata": {},
   "outputs": [],
   "source": [
    "#W1A10\n",
    "#Simple menu\n",
    "print \"=== AI Prediction System ===\" #Sai cú pháp print\n",
    "print(\"1) Sentiment analysis\"#Thiếu 1 dấu ngoặc đóng\n",
    "print(\"2) Weather forecast\"))#thừa 1 dấu ngoặc đóng\n",
    "print('3) Exit'#thiếu 1 dấu ngoặc đóng\n",
    "print(\"Please choose an option:\")"
   ]
  },
  {
   "cell_type": "code",
   "execution_count": 11,
   "id": "29a4dd01",
   "metadata": {},
   "outputs": [
    {
     "name": "stdout",
     "output_type": "stream",
     "text": [
      "Hello world\n"
     ]
    }
   ],
   "source": [
    "#W2A1\n",
    "print('Hello world')"
   ]
  },
  {
   "cell_type": "code",
   "execution_count": 13,
   "id": "8fecb497",
   "metadata": {},
   "outputs": [
    {
     "name": "stdout",
     "output_type": "stream",
     "text": [
      "Xin chào Bế Minh Thành\n"
     ]
    }
   ],
   "source": [
    "#W2A2\n",
    "a = input()\n",
    "print('Xin chào',a)"
   ]
  },
  {
   "cell_type": "code",
   "execution_count": 18,
   "id": "1074c2d4",
   "metadata": {},
   "outputs": [
    {
     "name": "stdout",
     "output_type": "stream",
     "text": [
      "1 + 3 = 4\n",
      "1 - 3 = -2\n",
      "1 * 3 = 3\n",
      "1 / 3 = 0.33\n",
      "1 // 3 = 0\n",
      "1 % 3 = 1\n"
     ]
    }
   ],
   "source": [
    "#W2A3\n",
    "a = int(input())\n",
    "b = int(input())\n",
    "print(f'{a} + {b} = {a + b}')\n",
    "print(f'{a} - {b} = {a - b}')\n",
    "print(f'{a} * {b} = {a * b}')\n",
    "print(f'{a} / {b} = {a / b:.2f}')\n",
    "print(f'{a} // {b} = {a // b}')\n",
    "print(f'{a} % {b} = {a % b}')\n"
   ]
  },
  {
   "cell_type": "code",
   "execution_count": 26,
   "id": "884dbe29",
   "metadata": {},
   "outputs": [
    {
     "name": "stdout",
     "output_type": "stream",
     "text": [
      "Điểm trung bình của bạn là: 3.9\n"
     ]
    }
   ],
   "source": [
    "#W2A4\n",
    "a1, b1, c1, a2, b2, a3 = map(int, input('Nhập điểm các môn của bạn:').split())\n",
    "TB = ((a1 + b1 + c1) + (a2 + b2) * 2 + a3 * 3)/10\n",
    "print(f'Điểm trung bình của bạn là: {TB:.1f}')"
   ]
  },
  {
   "cell_type": "code",
   "execution_count": 32,
   "id": "a8a1b2cb",
   "metadata": {},
   "outputs": [
    {
     "name": "stdout",
     "output_type": "stream",
     "text": [
      "Kết quả là: 8\n"
     ]
    }
   ],
   "source": [
    "#W2A5\n",
    "a, b = map(int, input('Nhập 2 số (cách nhau bởi dấu cách):').split())\n",
    "c = a ** b\n",
    "print('Kết quả là:', c)"
   ]
  },
  {
   "cell_type": "code",
   "execution_count": 44,
   "id": "640e1613",
   "metadata": {},
   "outputs": [
    {
     "name": "stdout",
     "output_type": "stream",
     "text": [
      "Mã Unicode của kí tự đó là: 97\n",
      "Chữ viết hoa của kí tự \"a\" là: A\n"
     ]
    }
   ],
   "source": [
    "#W2A6\n",
    "a = str(input('Nhập chữ \"a\":'))\n",
    "print('Mã Unicode của kí tự đó là:', ord(a))\n",
    "b = ord(a)\n",
    "print('Chữ viết hoa của kí tự \"a\" là:', chr(b - 32))\n"
   ]
  },
  {
   "cell_type": "code",
   "execution_count": null,
   "id": "ae73a32c",
   "metadata": {},
   "outputs": [
    {
     "name": "stdout",
     "output_type": "stream",
     "text": [
      "512\n",
      "512\n"
     ]
    }
   ],
   "source": [
    "#W2A7\n",
    "A = ((13 ** 2) * 3) + 5\n",
    "print(A)\n",
    "B = 13 ** 2 * 3 + 5\n",
    "print(B)\n",
    "#A=B"
   ]
  },
  {
   "cell_type": "code",
   "execution_count": 49,
   "id": "8fd71e80",
   "metadata": {},
   "outputs": [
    {
     "name": "stdout",
     "output_type": "stream",
     "text": [
      "Nhập nhiệt độ hiện tại theo thang độ F\n",
      "26\n",
      "Nhiệt độ hiện tại theo thang độ C là: 78.80\n"
     ]
    }
   ],
   "source": [
    "#W2A8\n",
    "print('Nhập nhiệt độ hiện tại theo thang độ F')\n",
    "F = int(input())\n",
    "print(F)\n",
    "print(f'Nhiệt độ hiện tại theo thang độ C là: {9/5 * F + 32:.2f}')"
   ]
  },
  {
   "cell_type": "code",
   "execution_count": 52,
   "id": "2ed6ae37",
   "metadata": {},
   "outputs": [
    {
     "name": "stdout",
     "output_type": "stream",
     "text": [
      "Nhập số tiền chiếc đồng hồ\n",
      "Giá chiếc đồng hồ ở Việt Nam là: 290.0\n"
     ]
    }
   ],
   "source": [
    "#W2A9\n",
    "print('Nhập số tiền chiếc đồng hồ')\n",
    "x = int(input())\n",
    "price = x + 4/10 * x + 10\n",
    "print('Giá chiếc đồng hồ ở Việt Nam là:', price)"
   ]
  },
  {
   "cell_type": "code",
   "execution_count": 54,
   "id": "f999a304",
   "metadata": {},
   "outputs": [
    {
     "name": "stdout",
     "output_type": "stream",
     "text": [
      "Chào ado, adu và adi\n"
     ]
    }
   ],
   "source": [
    "#W2A10\n",
    "names = input('Nhập vào 3 tên: ').split()\n",
    "names.reverse()\n",
    "print(f'Chào {names[0]}, {names[1]} và {names[2]}')"
   ]
  },
  {
   "cell_type": "code",
   "execution_count": 56,
   "id": "3d8636ae",
   "metadata": {},
   "outputs": [
    {
     "name": "stdout",
     "output_type": "stream",
     "text": [
      "Nhập số giờ: \n",
      "Nhập số phút: \n",
      "Số giây là: 9000\n"
     ]
    }
   ],
   "source": [
    "#W2A11\n",
    "print(\"Nhập số giờ: \")\n",
    "h = int(input())\n",
    "print(\"Nhập số phút: \")\n",
    "m = int(input())\n",
    "print(f'Số giây là: {h * 3600 + m * 60}')"
   ]
  },
  {
   "cell_type": "code",
   "execution_count": null,
   "id": "55f68ab2",
   "metadata": {},
   "outputs": [
    {
     "name": "stdout",
     "output_type": "stream",
     "text": [
      "Nhập độ dài 1 cạnh của rubik\n",
      "Số miếng dán cần cho cục rubik đó là: 72\n"
     ]
    }
   ],
   "source": [
    "#W2A12\n",
    "print('Nhập độ dài 1 cạnh của rubik')\n",
    "x = int(input())\n",
    "print(f'Số miếng dán cần cho cục rubik đó là: {x * 6}')"
   ]
  },
  {
   "cell_type": "code",
   "execution_count": null,
   "id": "109428d8",
   "metadata": {},
   "outputs": [
    {
     "name": "stdout",
     "output_type": "stream",
     "text": [
      "Hàng đơn vị của tích a * b là: 2\n"
     ]
    }
   ],
   "source": [
    "#W2A13\n",
    "a = int(input('Nhập số a: '))\n",
    "b = int(input('Nhập số b: '))\n",
    "tich = a * b\n",
    "c = tich % 10\n",
    "print('Hàng đơn vị của tích a * b là:', c)"
   ]
  },
  {
   "cell_type": "code",
   "execution_count": null,
   "id": "f46e39b0",
   "metadata": {},
   "outputs": [
    {
     "name": "stdout",
     "output_type": "stream",
     "text": [
      "Trước khi hoán đổi: a = 10 b = 12\n",
      "Sau khi hoán đổi: a = 12 b = 10\n"
     ]
    }
   ],
   "source": [
    "#W2A14\n",
    "a = int(input())\n",
    "b = int(input())\n",
    "print('Trước khi hoán đổi: a =', a, 'b =', b)\n",
    "a, b = b, a\n",
    "print('Sau khi hoán đổi: a =', a, 'b =', b)\n"
   ]
  },
  {
   "cell_type": "code",
   "execution_count": 4,
   "id": "7d728494",
   "metadata": {},
   "outputs": [
    {
     "name": "stdout",
     "output_type": "stream",
     "text": [
      "Hãy nhập số nguyên dương \"n\":\n",
      "Số sao thứ 12 là: 793\n"
     ]
    }
   ],
   "source": [
    "#W2A15\n",
    "print('Hãy nhập số nguyên dương \"n\":')\n",
    "n = int(input())\n",
    "S = 6 * n * (n - 1) + 1\n",
    "print('Số sao thứ', n, 'là:', S)"
   ]
  },
  {
   "cell_type": "code",
   "execution_count": 3,
   "id": "1243249b",
   "metadata": {},
   "outputs": [
    {
     "name": "stdout",
     "output_type": "stream",
     "text": [
      "Spring\n",
      "Summer\n",
      "Autumn\n",
      "Winter\n",
      "Spring\n",
      "Summer\n",
      "Autumn\n",
      "Winter\n",
      "Spirng\n",
      "Summer\n",
      "Autumn\n",
      "Winter\n"
     ]
    }
   ],
   "source": [
    "#W2A16\n",
    "#Cách 1:\n",
    "print('Spring')\n",
    "print('Summer')\n",
    "print('Autumn')\n",
    "print('Winter')\n",
    "#Cách 2:\n",
    "print('Spring\\nSummer\\nAutumn\\nWinter')\n",
    "#Cách 3:\n",
    "print('Spirng', 'Summer', 'Autumn', 'Winter', sep = '\\n')"
   ]
  },
  {
   "cell_type": "code",
   "execution_count": 4,
   "id": "eab7cdc3",
   "metadata": {},
   "outputs": [
    {
     "name": "stdout",
     "output_type": "stream",
     "text": [
      "*\n",
      "***\n",
      "*****\n"
     ]
    }
   ],
   "source": [
    "#W2A17\n",
    "print('*', '***', '*****', sep = '\\n')"
   ]
  },
  {
   "cell_type": "code",
   "execution_count": null,
   "id": "05fccae5",
   "metadata": {},
   "outputs": [
    {
     "name": "stdout",
     "output_type": "stream",
     "text": [
      "###  ###  ###  ###\n",
      " #   #  #   #    # \n",
      " #   #  #   #    # \n",
      " #   #  #   #    # \n",
      " #   ###   #    # \n"
     ]
    }
   ],
   "source": [
    "#W2A18\n",
    "t = [\"###\", \" # \", \" # \", \" # \", \" # \"]\n",
    "d = [\"###\", \"#  #\", \"#  #\", \"#  #\", \"###\"]\n",
    "\n",
    "for i in range(5):\n",
    "    print(t[i] + \"  \" + d[i] + \"  \" + t[i] + \"  \" + t[i])\n",
    "\n"
   ]
  },
  {
   "cell_type": "code",
   "execution_count": 7,
   "id": "1136cde6",
   "metadata": {},
   "outputs": [
    {
     "name": "stdout",
     "output_type": "stream",
     "text": [
      "Monday\n",
      "Tuesday\n",
      "Wednesday\n",
      "Thursday\n",
      "Friday\n",
      "Saturday\n",
      "Sunday\n"
     ]
    }
   ],
   "source": [
    "#W2A19\n",
    "print('Monday', 'Tuesday', 'Wednesday', 'Thursday', 'Friday', 'Saturday', 'Sunday', sep = '\\n')"
   ]
  },
  {
   "cell_type": "code",
   "execution_count": 8,
   "id": "950df180",
   "metadata": {},
   "outputs": [
    {
     "name": "stdout",
     "output_type": "stream",
     "text": [
      "January\n",
      "February\n",
      "March\n",
      "April\n",
      "May\n",
      "June\n",
      "July\n",
      "August\n",
      "September\n",
      "October\n",
      "November\n",
      "December\n"
     ]
    }
   ],
   "source": [
    "#W2A20\n",
    "print('January', 'February', 'March', 'April', 'May', 'June', 'July', 'August', 'September', 'October', 'November', 'December', sep = '\\n')"
   ]
  },
  {
   "cell_type": "code",
   "execution_count": 1,
   "id": "6d791638",
   "metadata": {},
   "outputs": [
    {
     "name": "stdout",
     "output_type": "stream",
     "text": [
      "Hello World\n",
      "Hello World\n",
      "Hello World\n",
      "Hello World\n",
      "Hello World\n",
      "Hello World\n",
      "Hello World\n",
      "Hello World\n",
      "Hello World\n",
      "Hello World\n"
     ]
    }
   ],
   "source": [
    "#W2A21\n",
    "a = 'Hello World'\n",
    "for i in range(10):\n",
    "    print(a)"
   ]
  },
  {
   "cell_type": "code",
   "execution_count": null,
   "id": "1c1f3ba3-96da-4f79-a788-b6067958c9a2",
   "metadata": {},
   "outputs": [],
   "source": []
  }
 ],
 "metadata": {
  "kernelspec": {
   "display_name": "Python 3 (ipykernel)",
   "language": "python",
   "name": "python3"
  },
  "language_info": {
   "codemirror_mode": {
    "name": "ipython",
    "version": 3
   },
   "file_extension": ".py",
   "mimetype": "text/x-python",
   "name": "python",
   "nbconvert_exporter": "python",
   "pygments_lexer": "ipython3",
   "version": "3.13.7"
  }
 },
 "nbformat": 4,
 "nbformat_minor": 5
}
