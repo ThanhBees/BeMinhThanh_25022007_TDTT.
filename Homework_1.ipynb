{
 "cells": [
  {
   "cell_type": "code",
   "execution_count": 2,
   "id": "b177c98a-9c48-492e-b5cc-14a75b780a96",
   "metadata": {},
   "outputs": [
    {
     "name": "stdin",
     "output_type": "stream",
     "text": [
      "Nhập số nguyên n: 6\n"
     ]
    },
    {
     "name": "stdout",
     "output_type": "stream",
     "text": [
      "12\n"
     ]
    }
   ],
   "source": [
    "#Bài 1:\n",
    "n = int(input(\"Nhập số nguyên n:\"))\n",
    "print(n*2)"
   ]
  },
  {
   "cell_type": "code",
   "execution_count": 1,
   "id": "6b60c5b1-e69a-4dae-b87c-7b61dbc8d412",
   "metadata": {},
   "outputs": [
    {
     "name": "stdin",
     "output_type": "stream",
     "text": [
      "Nhập chiều rộng khu đất: 1\n",
      "Nhập chiều dài khu đất: 2\n"
     ]
    },
    {
     "name": "stdout",
     "output_type": "stream",
     "text": [
      "Diện tích còn để trồng cây là: 1.21 m^2\n",
      "alo\n"
     ]
    }
   ],
   "source": [
    "#Bài 2:\n",
    "a = float(input(\"Nhập chiều rộng khu đất:\"))\n",
    "b = float(input(\"Nhập chiều dài khu đất:\"))\n",
    "print(f\"Diện tích còn để trồng cây là: {a * b - 3.14 * (a / 2) ** 2:.2f} m^2\")"
   ]
  },
  {
   "cell_type": "code",
   "execution_count": 14,
   "id": "0e3e4a4d-3e17-4d4f-be0b-ce0d657464e2",
   "metadata": {},
   "outputs": [
    {
     "name": "stdin",
     "output_type": "stream",
     "text": [
      "Hãy nhập 1 kí tự: a\n"
     ]
    },
    {
     "name": "stdout",
     "output_type": "stream",
     "text": [
      "Kí tự sau khi đổi thành chữ hoa: A\n"
     ]
    }
   ],
   "source": [
    "#Bài 3:\n",
    "c = input(\"Hãy nhập 1 kí tự:\")\n",
    "if c.isupper():\n",
    "    print(\"Kí tự sau khi đổi thành chữ thường:\", c.lower())\n",
    "else:\n",
    "    print(\"Kí tự sau khi đổi thành chữ hoa:\", c.upper())"
   ]
  },
  {
   "cell_type": "code",
   "execution_count": 1,
   "id": "115e9a05-0c18-44c1-8f16-93797b742b5e",
   "metadata": {},
   "outputs": [
    {
     "name": "stdin",
     "output_type": "stream",
     "text": [
      "Hãy nhập vào 1 kí tự: B\n"
     ]
    },
    {
     "name": "stdout",
     "output_type": "stream",
     "text": [
      "B là kí tự alphabet\n"
     ]
    }
   ],
   "source": [
    "#Bài 4:\n",
    "c = input(\"Hãy nhập vào 1 kí tự:\")\n",
    "if c.isupper() or c.islower():\n",
    "    print(f\"{c} là kí tự alphabet\")\n",
    "else:\n",
    "    print(f\"{c} không phải kí tự alphabet\")\n"
   ]
  },
  {
   "cell_type": "code",
   "execution_count": 4,
   "id": "4d85c8d6-70aa-4804-be90-fb5845f51024",
   "metadata": {},
   "outputs": [
    {
     "name": "stdin",
     "output_type": "stream",
     "text": [
      "Nhập vào 1 chữ cái HOA: B\n"
     ]
    },
    {
     "name": "stdout",
     "output_type": "stream",
     "text": [
      "Chữ cái thường liền trước là: a\n"
     ]
    }
   ],
   "source": [
    "#Bài 5:\n",
    "c = input(\"Nhập vào 1 chữ cái HOA:\")\n",
    "if c == \"A\":\n",
    "    print(\"Không có chữ cái thường liền trước A\")\n",
    "elif c.isupper():\n",
    "    a = c.lower()\n",
    "    b = chr(ord(a) - 1)\n",
    "    print(\"Chữ cái thường liền trước là:\", b)\n",
    "else:\n",
    "    print(\"YÊU CẦU NHẬP CHỮ CÁI HOA\")"
   ]
  },
  {
   "cell_type": "code",
   "execution_count": 1,
   "id": "81ea389c-3ac7-4c6f-a0fb-e08e88a0763d",
   "metadata": {},
   "outputs": [
    {
     "name": "stdin",
     "output_type": "stream",
     "text": [
      "Nhập vào 3 số a, b, c (cách nhau bởi dấu cách): 1 2 3\n"
     ]
    },
    {
     "name": "stdout",
     "output_type": "stream",
     "text": [
      "Đây không phải độ dài 3 cạnh của 1 tam giác\n"
     ]
    }
   ],
   "source": [
    "#Bài 6:\n",
    "a, b, c = map(float, input(\"Nhập vào 3 số a, b, c (cách nhau bởi dấu cách):\").split())\n",
    "if a + b > c and a + c > b and b + c > a:\n",
    "    print(\"Đây là độ dài 3 cạnh của 1 tam giác\")\n",
    "    p = (a + b + c) / 2\n",
    "    S = math.sqrt(p * (p - a) * (p - b) * (p - c))\n",
    "    print(f\"Diện tích của tam giác đó là: {S:.1f}\")\n",
    "else:\n",
    "    print(\"Đây không phải độ dài 3 cạnh của 1 tam giác\")"
   ]
  },
  {
   "cell_type": "code",
   "execution_count": 46,
   "id": "e40e5629-dbe4-4605-a0b9-a54a83ea1903",
   "metadata": {},
   "outputs": [
    {
     "name": "stdin",
     "output_type": "stream",
     "text": [
      "Nhập vào chuỗi kí tự độ dài lớn hơn hoặc bằng 20: 1234567890123456789321474293475982374582345\n"
     ]
    },
    {
     "name": "stdout",
     "output_type": "stream",
     "text": [
      "Chữ cái thứ 5 là: 5\n",
      "Chữ cái thứ 9 là: 9\n"
     ]
    }
   ],
   "source": [
    "#Bài 7:\n",
    "s = input(\"Nhập vào chuỗi kí tự độ dài lớn hơn hoặc bằng 20:\")\n",
    "print(\"Chữ cái thứ 5 là:\", s[4])\n",
    "print(\"Chữ cái thứ 9 là:\", s[8])"
   ]
  },
  {
   "cell_type": "code",
   "execution_count": 5,
   "id": "eea0b150-7b62-4766-a655-c960ea6da787",
   "metadata": {},
   "outputs": [
    {
     "name": "stdin",
     "output_type": "stream",
     "text": [
      "Nhập tên chủ hộ:  abd\n",
      "Nhập chỉ số điện tháng trước:  1020\n",
      "Nhập chỉ số điện tháng này:  1070\n"
     ]
    },
    {
     "name": "stdout",
     "output_type": "stream",
     "text": [
      "Tiền điện tháng này là: 107136\n"
     ]
    }
   ],
   "source": [
    "# Bài 8:\n",
    "name = input('Nhập tên chủ hộ: ')\n",
    "money = int(input('Nhập chỉ số điện tháng trước: '))\n",
    "money2 = int(input('Nhập chỉ số điện tháng này: '))\n",
    "p = money2 - money\n",
    "if p <= 50:\n",
    "    s = (p*1984) * 1.08\n",
    "    print('Tiền điện tháng này là:', round(s))\n",
    "if 51 <= p <= 100:\n",
    "    s = (p * 2380) * 1.08\n",
    "    print('Tiền điện tháng này là:', round(s))\n",
    "if 101 <= p <= 200:\n",
    "    s = (p * 2998) * 1.08\n",
    "    print('Tiền điện tháng này là:', round(s))\n",
    "if 201 <= p <= 300:\n",
    "    s = (p * 3350) * 1.08\n",
    "    print('Tiền điện tháng này là:', round(s))\n"
   ]
  },
  {
   "cell_type": "code",
   "execution_count": null,
   "id": "24490cff-44f5-481c-b664-dfe691e5bc89",
   "metadata": {},
   "outputs": [],
   "source": []
  },
  {
   "cell_type": "code",
   "execution_count": null,
   "id": "bf6958ac-8645-47ca-9d45-d9de8c5ed4c0",
   "metadata": {},
   "outputs": [],
   "source": []
  }
 ],
 "metadata": {
  "kernelspec": {
   "display_name": "Python 3 (ipykernel)",
   "language": "python",
   "name": "python3"
  },
  "language_info": {
   "codemirror_mode": {
    "name": "ipython",
    "version": 3
   },
   "file_extension": ".py",
   "mimetype": "text/x-python",
   "name": "python",
   "nbconvert_exporter": "python",
   "pygments_lexer": "ipython3",
   "version": "3.13.7"
  }
 },
 "nbformat": 4,
 "nbformat_minor": 5
}
