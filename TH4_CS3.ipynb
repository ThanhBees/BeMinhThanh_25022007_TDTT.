{
 "cells": [
  {
   "cell_type": "markdown",
   "id": "558ad219-accd-419b-84d5-c7059783d3c2",
   "metadata": {},
   "source": [
    "for _ in range(start = 0, stop, step = 1):\n",
    "range(stop): 0,1,2,3,4,5,...stop -1\n",
    "range(start, stop): start,start +1,start +2..., stop +1\n",
    "range(start, stop, step): start, start + step,  start + 2*step,...., stop -1\n",
    "break: ngat ngay khi gap nhanh nay`\n",
    "continue: bo qua khi gap dong lenh tiep theo"
   ]
  },
  {
   "cell_type": "code",
   "execution_count": 3,
   "id": "d7306a86-e019-4dee-9ec8-415f3be7e9b7",
   "metadata": {},
   "outputs": [
    {
     "name": "stdin",
     "output_type": "stream",
     "text": [
      " -0\n"
     ]
    },
    {
     "name": "stdout",
     "output_type": "stream",
     "text": [
      "Hay nhap vao 1 so nguyen duong\n"
     ]
    }
   ],
   "source": [
    "#W4A1\n",
    "n = int(input())\n",
    "if (n > 0):\n",
    "    total = 0\n",
    "    for i in range(1, n+1):\n",
    "        total += 1\n",
    "    print(total)\n",
    "else:\n",
    "    print('Hay nhap vao 1 so nguyen duong')"
   ]
  },
  {
   "cell_type": "code",
   "execution_count": 10,
   "id": "7317709a-c6be-4bde-884b-311cfd279678",
   "metadata": {},
   "outputs": [
    {
     "name": "stdin",
     "output_type": "stream",
     "text": [
      "Nhap vao 1 so nguyen duong: 14\n"
     ]
    },
    {
     "name": "stdout",
     "output_type": "stream",
     "text": [
      "14 khong phai la so nguyen to\n"
     ]
    }
   ],
   "source": [
    "#W4A2\n",
    "n = 0\n",
    "for _ in range (10000):\n",
    "    n = int(input('Nhap vao 1 so nguyen duong:'))\n",
    "    if (n > 0):\n",
    "        break\n",
    "    else:\n",
    "        print('Nhap lai di')\n",
    "cnt = 0\n",
    "for i in range(1, n+1):\n",
    "    if(n % i == 0):\n",
    "        cnt += 1\n",
    "if(cnt == 2):\n",
    "    print(n, 'la so nguyen to')\n",
    "else:\n",
    "    print(n, 'khong phai la so nguyen to')"
   ]
  },
  {
   "cell_type": "code",
   "execution_count": 12,
   "id": "8552fcc3-05d8-408e-aa8a-318ff2f6fe40",
   "metadata": {},
   "outputs": [
    {
     "name": "stdin",
     "output_type": "stream",
     "text": [
      "nhap so n: 4\n"
     ]
    },
    {
     "name": "stdout",
     "output_type": "stream",
     "text": [
      "giai thua cua so do la 24\n"
     ]
    }
   ],
   "source": [
    "#W4A3\n",
    "n = int(input('nhap so n:'))\n",
    "g = 1\n",
    "\n",
    "for i in range(1, n + 1):\n",
    "    g *= i\n",
    "\n",
    "print('giai thua cua so do la', g)\n"
   ]
  },
  {
   "cell_type": "code",
   "execution_count": 15,
   "id": "1209f7e8-bf92-49f7-aebd-9f42e9eb9123",
   "metadata": {},
   "outputs": [
    {
     "name": "stdin",
     "output_type": "stream",
     "text": [
      "nhap so nguyen n 1\n"
     ]
    },
    {
     "name": "stdout",
     "output_type": "stream",
     "text": [
      "so chu so la: 1\n"
     ]
    }
   ],
   "source": [
    "#W4A4\n",
    "n = int(input('nhap so nguyen n'))\n",
    "n = abs(n)\n",
    "if n == 0:\n",
    "    so_chu_so = 1\n",
    "else:\n",
    "    so_chu_so = 0\n",
    "    while n > 0:\n",
    "        n //= 10 \n",
    "        so_chu_so += 1\n",
    "\n",
    "print('so chu so la:', so_chu_so)\n"
   ]
  },
  {
   "cell_type": "code",
   "execution_count": 19,
   "id": "ae8888b8-3634-444c-b696-e039f2224f88",
   "metadata": {},
   "outputs": [
    {
     "name": "stdin",
     "output_type": "stream",
     "text": [
      "Nhap so luong phan tu: 10\n",
      "Nhap so thu 1:  1\n",
      "Nhap so thu 2:  2\n",
      "Nhap so thu 3:  3\n",
      "Nhap so thu 4:  4\n",
      "Nhap so thu 5:  5\n",
      "Nhap so thu 6:  6\n",
      "Nhap so thu 7:  7\n",
      "Nhap so thu 8:  8\n",
      "Nhap so thu 9:  9\n",
      "Nhap so thu 10:  10\n"
     ]
    },
    {
     "name": "stdout",
     "output_type": "stream",
     "text": [
      "It's a joke!\n"
     ]
    }
   ],
   "source": [
    "#W4A5\n",
    "n = int(input('Nhap so luong phan tu:'))\n",
    "\n",
    "found = False\n",
    "for i in range(n):\n",
    "    x = int(input(f\"Nhap so thu {i+1}: \"))\n",
    "    if x == 42:\n",
    "        found = True\n",
    "if found:\n",
    "    print(\"I've found the meaning of life!\")\n",
    "else:\n",
    "    print(\"It's a joke!\")\n"
   ]
  },
  {
   "cell_type": "code",
   "execution_count": 22,
   "id": "dd391223-e3ae-4968-bb66-ac5891654a8f",
   "metadata": {},
   "outputs": [
    {
     "name": "stdin",
     "output_type": "stream",
     "text": [
      "Nhap so thu nhat: 220\n",
      "Nhap so thu hai: 284\n"
     ]
    },
    {
     "name": "stdout",
     "output_type": "stream",
     "text": [
      "true\n"
     ]
    }
   ],
   "source": [
    "#W4A13\n",
    "a = int(input('Nhap so thu nhat:'))\n",
    "b = int(input('Nhap so thu hai:'))\n",
    "ta = 0\n",
    "tb = 0\n",
    "for i in range (1, a):\n",
    "    if a % i == 0:\n",
    "        ta += i\n",
    "for i in range(1, b):\n",
    "    if b % i == 0:\n",
    "        tb +=i\n",
    "if ta == b and tb == a:\n",
    "    print(\"true\")\n",
    "else:\n",
    "    print(\"false\")\n",
    "        "
   ]
  }
 ],
 "metadata": {
  "kernelspec": {
   "display_name": "Python 3 (ipykernel)",
   "language": "python",
   "name": "python3"
  },
  "language_info": {
   "codemirror_mode": {
    "name": "ipython",
    "version": 3
   },
   "file_extension": ".py",
   "mimetype": "text/x-python",
   "name": "python",
   "nbconvert_exporter": "python",
   "pygments_lexer": "ipython3",
   "version": "3.13.7"
  }
 },
 "nbformat": 4,
 "nbformat_minor": 5
}
